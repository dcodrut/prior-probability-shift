{
 "cells": [
  {
   "cell_type": "markdown",
   "metadata": {},
   "source": [
    "# Online Local Adaptive Model - Notebook 1\n",
    "\n",
    "* Prior Probability Shift is one of the common problems encountered in Machine Learning algortihms.   \n",
    "* There are some approaches for dealing with this problem in a 'static' scenario. But there are situations in which we need a model which deals with secvential data as input (e.g. a server which gets input from different users, with different data distributions).   \n",
    "* In this project, we try to build a model which self adapts its predictions based on the local label distribution. \n",
    "\n",
    "### About notebook 1\n",
    "\n",
    "In this notebook we implement the standard version of Lenet5 architecture and test it on the entire MNIST dataset (which has a uniform label distribution)\n",
    "\n",
    "#### LeNet5 model used (with 28x28 inputs):\n",
    "![title](https://cdnpythonmachinelearning.azureedge.net/wp-content/uploads/2017/09/lenet-5.png?x64257)"
   ]
  },
  {
   "cell_type": "markdown",
   "metadata": {},
   "source": [
    "### Notebook setup"
   ]
  },
  {
   "cell_type": "code",
   "execution_count": null,
   "metadata": {
    "scrolled": true
   },
   "outputs": [],
   "source": [
    "from IPython.core.display import display, HTML\n",
    "display(HTML(\"<style>.container { width:100% !important; }</style>\"))\n",
    "%matplotlib inline\n",
    "# %matplotlib qt\n",
    "%load_ext autoreload\n",
    "%autoreload 2"
   ]
  },
  {
   "cell_type": "markdown",
   "metadata": {},
   "source": [
    "### Imports"
   ]
  },
  {
   "cell_type": "code",
   "execution_count": null,
   "metadata": {},
   "outputs": [],
   "source": [
    "import matplotlib.pyplot as plt\n",
    "import numpy as np\n",
    "import pandas as pd\n",
    "import tensorflow as tf\n",
    "import time\n",
    "from collections import deque\n",
    "import os\n",
    "import pickle\n",
    "from training_plotter import TrainingPlotter\n",
    "from dataset import MNISTDataset\n",
    "import utils\n",
    "from lenet5 import Lenet5\n",
    "from lenet5_with_distr import Lenet5WithDistr\n",
    "\n",
    "# numpy print options\n",
    "np.set_printoptions(linewidth = 150)\n",
    "np.set_printoptions(edgeitems = 10)\n",
    "np.set_printoptions(precision=3)"
   ]
  },
  {
   "cell_type": "markdown",
   "metadata": {},
   "source": [
    "### Set seed"
   ]
  },
  {
   "cell_type": "code",
   "execution_count": null,
   "metadata": {},
   "outputs": [],
   "source": [
    "# create a random generator using a constant seed in order to reproduce results\n",
    "seed = 112358\n",
    "nprg = np.random.RandomState(seed)"
   ]
  },
  {
   "cell_type": "markdown",
   "metadata": {},
   "source": [
    "### Import MNIST dataset"
   ]
  },
  {
   "cell_type": "code",
   "execution_count": null,
   "metadata": {},
   "outputs": [],
   "source": [
    "MNIST_TRAIN_IMAGES_FILEPATH = 'MNIST_dataset/train-images.idx3-ubyte'\n",
    "MNIST_TRAIN_LABELS_FILEPATH = 'MNIST_dataset/train-labels.idx1-ubyte'\n",
    "MNIST_TEST_IMAGES_FILEPATH = 'MNIST_dataset/t10k-images.idx3-ubyte'\n",
    "MNIST_TEST_LABELS_FILEPATH = 'MNIST_dataset/t10k-labels.idx1-ubyte'\n",
    "\n",
    "mnist_ds = MNISTDataset(MNIST_TRAIN_IMAGES_FILEPATH, \n",
    "                        MNIST_TRAIN_LABELS_FILEPATH,\n",
    "                        MNIST_TEST_IMAGES_FILEPATH,\n",
    "                        MNIST_TEST_LABELS_FILEPATH)\n"
   ]
  },
  {
   "cell_type": "markdown",
   "metadata": {},
   "source": [
    "### Data augmentation"
   ]
  },
  {
   "cell_type": "code",
   "execution_count": null,
   "metadata": {},
   "outputs": [],
   "source": [
    "mnist_ds.enhance_with_random_rotate(ratio = 2)"
   ]
  },
  {
   "cell_type": "code",
   "execution_count": null,
   "metadata": {
    "scrolled": true
   },
   "outputs": [],
   "source": [
    "mnist_ds.enhance_with_random_zoomin(ratio = 2)"
   ]
  },
  {
   "cell_type": "code",
   "execution_count": null,
   "metadata": {},
   "outputs": [],
   "source": [
    "mnist_ds.enhance_with_random_zoomin_and_rotate(ratio = 2)"
   ]
  },
  {
   "cell_type": "markdown",
   "metadata": {},
   "source": [
    "### Analyze dataset"
   ]
  },
  {
   "cell_type": "code",
   "execution_count": null,
   "metadata": {
    "scrolled": true
   },
   "outputs": [],
   "source": [
    "print(mnist_ds.summary)"
   ]
  },
  {
   "cell_type": "code",
   "execution_count": null,
   "metadata": {},
   "outputs": [],
   "source": [
    "def plot_images_sample(images, image_size, labels, nlines, ncols):\n",
    "    plt.figure(figsize=(8, 3), dpi = 150)\n",
    "    train_sample_indices = np.random.choice(a = dataset.num_examples, size = nlines * ncols, replace=False)\n",
    "    plt.imshow(utils.concat_images(images[train_sample_indices], image_size, nlines, ncols), cmap='gray_r')\n",
    "    plt.title(str(np.argmax(labels[train_sample_indices], axis=1).reshape(nlines, ncols)), fontsize=8)\n",
    "    plt.show()"
   ]
  },
  {
   "cell_type": "code",
   "execution_count": null,
   "metadata": {
    "scrolled": true
   },
   "outputs": [],
   "source": [
    "# plot a sample from each train, validation and test set\n",
    "for dataset in [mnist_ds.train, mnist_ds.validation, mnist_ds.test]:  \n",
    "    plot_images_sample(dataset.images, mnist_ds.image_size, dataset.labels, nlines=5, ncols=20)"
   ]
  },
  {
   "cell_type": "code",
   "execution_count": null,
   "metadata": {
    "scrolled": true
   },
   "outputs": [],
   "source": [
    "# plot label distribution of each train, validation and test set\n",
    "plt.figure(figsize=(30, 3))\n",
    "\n",
    "plt.subplot(131)\n",
    "plt.hist(np.argmax(mnist_ds.train.labels, axis = 1), bins=np.arange(11), align='left', rwidth=0.8, normed=False)\n",
    "plt.xticks(range(0, 10))\n",
    "plt.xlabel('digit')\n",
    "plt.ylabel('frequency')\n",
    "plt.title('Train set distribution')\n",
    "\n",
    "plt.subplot(132)\n",
    "plt.hist(np.argmax(mnist_ds.validation.labels, axis = 1), bins=np.arange(11), align='left', rwidth=0.8, normed=False)\n",
    "plt.xticks(range(0, 10))\n",
    "plt.xlabel('digit')\n",
    "plt.ylabel('frequency')\n",
    "plt.title('Validation set distribution')\n",
    "\n",
    "plt.subplot(133)\n",
    "plt.hist(np.argmax(mnist_ds.test.labels, axis = 1), bins=np.arange(11), align='left', rwidth=0.8, normed=False)\n",
    "plt.xticks(range(0, 10))\n",
    "plt.xlabel('digit')\n",
    "plt.ylabel('frequency')\n",
    "plt.title('Test set distribution')\n",
    "\n",
    "plt.show()"
   ]
  },
  {
   "cell_type": "markdown",
   "metadata": {},
   "source": [
    "### Train a model"
   ]
  },
  {
   "cell_type": "code",
   "execution_count": null,
   "metadata": {},
   "outputs": [],
   "source": [
    "lenet5_model = Lenet5(mnist_ds, \"zoomin_and_rotate_x2_allDigits_dropoutAfterF5F6\",\n",
    "              epochs=40, batch_size=128, variable_mean=0, variable_stddev=0.1,\n",
    "              learning_rate=0.001,\n",
    "              drop_out_keep_prob=0.5)"
   ]
  },
  {
   "cell_type": "code",
   "execution_count": null,
   "metadata": {},
   "outputs": [],
   "source": [
    "lenet5_model.train()"
   ]
  },
  {
   "cell_type": "markdown",
   "metadata": {},
   "source": [
    "### Analyze results"
   ]
  },
  {
   "cell_type": "markdown",
   "metadata": {},
   "source": [
    "#### 1. Test  a previous trained method on all test examples"
   ]
  },
  {
   "cell_type": "code",
   "execution_count": null,
   "metadata": {},
   "outputs": [],
   "source": [
    "# test using test_data method\n",
    "temp = Lenet5(mnist_ds,\"temp\")\n",
    "# temp.restore_session(ckpt_dir='./results/', ckpt_filename='Lenet5_allDigits_dropoutAfterF5F6_2018_02_10_02_59.model.ckpt')\n",
    "# temp.restore_session(ckpt_dir='./results/', ckpt_filename='Lenet5_rotated_x2_allDigits_dropoutAfterF5F6_2018_02_10_23_50.model.ckpt')\n",
    "temp.restore_session(ckpt_dir='./results/', ckpt_filename='Lenet5_zoomin_and_rotate_x2_allDigits_dropoutAfterF5F6_2018_03_18---15_46.model.ckpt')\n",
    "test_loss, test_acc, total_predict, total_actual, wrong_predict_images, _ = temp.test_data(mnist_ds.test)\n",
    "print('test_loss = {:.3f}, test_acc = {:.3f} ({}/{})'.format(test_loss,test_acc,  mnist_ds.test.num_examples - len(wrong_predict_images), mnist_ds.test.num_examples))"
   ]
  },
  {
   "cell_type": "code",
   "execution_count": null,
   "metadata": {},
   "outputs": [],
   "source": [
    "# sort wrong_predict_images by target label and plot them to file\n",
    "wrong_predict = total_predict[total_actual != total_predict]\n",
    "wrong_actual = total_actual[total_actual != total_predict]\n",
    "wrong_predict_images = np.array(wrong_predict_images)\n",
    "wrong_predict_images_sorted = wrong_predict_images[wrong_actual.argsort(), ]\n",
    "wrong_predict_images_sorted = [image for image in wrong_predict_images_sorted]\n",
    "from training_plotter import TrainingPlotter\n",
    "TrainingPlotter.combine_images(wrong_predict_images_sorted, \"wrong_predicted_after_restore_session.png\")"
   ]
  },
  {
   "cell_type": "code",
   "execution_count": null,
   "metadata": {
    "scrolled": true
   },
   "outputs": [],
   "source": [
    "# print target and predicted label distributions of wrong predicted examples\n",
    "plt.figure(figsize=(20, 3))\n",
    "\n",
    "plt.subplot(121)\n",
    "plt.hist(wrong_predict, bins=np.arange(11), align='left', rwidth=0.8, normed=False)\n",
    "plt.xticks(range(0, 10))\n",
    "plt.xlabel('digit')\n",
    "plt.ylabel('frequency')\n",
    "plt.title('predicted label distribution corresponding to wrong predictions')\n",
    "\n",
    "plt.subplot(122)\n",
    "plt.hist(wrong_actual, bins=np.arange(11), align='left', rwidth=0.8, normed=False)\n",
    "plt.xticks(range(0, 10))\n",
    "plt.xlabel('digit')\n",
    "plt.ylabel('frequency')\n",
    "plt.title('target label distribution corresponding to wrong predictions')\n",
    "\n",
    "plt.show()"
   ]
  },
  {
   "cell_type": "markdown",
   "metadata": {},
   "source": [
    "#### 2.Test the model  on a sample of images"
   ]
  },
  {
   "cell_type": "code",
   "execution_count": null,
   "metadata": {},
   "outputs": [],
   "source": [
    "# choose all test images as sample\n",
    "test_sample_size = mnist_ds.test.num_examples\n",
    "test_sample_images, test_sample_labels = mnist_ds.test.images, mnist_ds.test.labels"
   ]
  },
  {
   "cell_type": "code",
   "execution_count": null,
   "metadata": {},
   "outputs": [],
   "source": [
    "# or choose a sample w.r.t. a given distribution\n",
    "print('Counts per class:{}'.format(mnist_ds.test.counts_per_class))\n",
    "test_sample_size = 3000\n",
    "test_sample_weights = np.array([1, 4, 2, 7, 4, 12, 44, 33, 22, 11])\n",
    "test_sample_weights = test_sample_weights / np.sum(test_sample_weights)\n",
    "\n",
    "plt.bar(range(0,10), test_sample_weights)\n",
    "plt.xticks(range(0,10))\n",
    "plt.title('sample distribution')\n",
    "plt.show()\n",
    "\n",
    "test_sample_images, test_sample_labels = mnist_ds.test.next_batch(test_sample_size, weights = test_sample_weights)"
   ]
  },
  {
   "cell_type": "code",
   "execution_count": null,
   "metadata": {},
   "outputs": [],
   "source": [
    "# test using predict_images method\n",
    "temp_model = Lenet5(mnist_ds,\"temp\")\n",
    "# temp_model.restore_session(ckpt_dir='./results/', ckpt_filename='Lenet5_allDigits_dropoutAfterF5F6_2018_02_10_02_59.model.ckpt')\n",
    "temp_model.restore_session(ckpt_dir='./results/', ckpt_filename='Lenet5_zoomin_and_rotate_x2_allDigits_dropoutAfterF5F6_2018_03_18---15_46.model.ckpt')\n",
    "preds = temp_model.predict_images(test_sample_images)\n",
    "target_labels = np.argmax(test_sample_labels, axis=1)\n",
    "predicted_labels = np.argmax(preds, axis=1)\n",
    "count_correct_predicted = np.sum(target_labels == predicted_labels)\n",
    "print('Accuracy: {:.3f} ({}/{})'.format(count_correct_predicted / test_sample_size, count_correct_predicted, test_sample_size))"
   ]
  },
  {
   "cell_type": "code",
   "execution_count": null,
   "metadata": {
    "scrolled": false
   },
   "outputs": [],
   "source": [
    "# sort wrong_predict_images by target label and plot them\n",
    "wrong_predict = predicted_labels[target_labels != predicted_labels]\n",
    "wrong_actual = target_labels[target_labels != predicted_labels]\n",
    "wrong_predicted_images = test_sample_images[target_labels != predicted_labels]\n",
    "wrong_predict_images_sorted = wrong_predicted_images[wrong_actual.argsort()]\n",
    "wrong_actual_sorted = wrong_actual[wrong_actual.argsort()]\n",
    "wrong_predict_sorted = wrong_predict[wrong_actual.argsort()]\n",
    "\n",
    "plt.figure(figsize=(15, 3), dpi = 120)\n",
    "plt.imshow(utils.concat_images(wrong_predict_images_sorted, mnist_ds.image_size, num_images_on_x = 5, num_images_on_y = 20), cmap='gray_r')\n",
    "plt.title(\"Actual: {}\\nPredicted: {}\".format(np.array(wrong_actual_sorted), str(wrong_predict_sorted)), fontsize = 8)\n",
    "plt.show()\n",
    "\n",
    "# print target and predicted label distributions of wrong predicted examples\n",
    "plt.figure(figsize=(20, 3))\n",
    "\n",
    "plt.subplot(121)\n",
    "plt.hist(wrong_predict, bins=np.arange(11), align='left', rwidth=0.8, normed=True)\n",
    "plt.xticks(range(0, 10))\n",
    "plt.xlabel('digit')\n",
    "plt.ylabel('frequency')\n",
    "plt.title('predicted label distribution corresponding to wrong predictions')\n",
    "\n",
    "plt.subplot(122)\n",
    "plt.hist(wrong_actual, bins=np.arange(11), align='left', rwidth=0.8, normed=True)\n",
    "plt.xticks(range(0, 10))\n",
    "plt.xlabel('digit')\n",
    "plt.ylabel('frequency')\n",
    "plt.title('target label distribution corresponding to wrong predictions')\n",
    "\n",
    "plt.show()"
   ]
  }
 ],
 "metadata": {
  "kernelspec": {
   "display_name": "Python 3",
   "language": "python",
   "name": "python3"
  },
  "language_info": {
   "codemirror_mode": {
    "name": "ipython",
    "version": 3
   },
   "file_extension": ".py",
   "mimetype": "text/x-python",
   "name": "python",
   "nbconvert_exporter": "python",
   "pygments_lexer": "ipython3",
   "version": "3.6.3"
  }
 },
 "nbformat": 4,
 "nbformat_minor": 2
}
