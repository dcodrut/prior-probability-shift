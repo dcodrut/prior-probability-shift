{
 "cells": [
  {
   "cell_type": "markdown",
   "metadata": {},
   "source": [
    "## Train LeNet5 on MNIST dataset using TensorFlow"
   ]
  },
  {
   "cell_type": "markdown",
   "metadata": {},
   "source": [
    "#### Notebook setup"
   ]
  },
  {
   "cell_type": "code",
   "execution_count": null,
   "metadata": {
    "scrolled": true
   },
   "outputs": [],
   "source": [
    "from IPython.core.display import display, HTML\n",
    "display(HTML(\"<style>.container { width:95% !important; }</style>\"))\n",
    "%matplotlib inline\n",
    "# %matplotlib qt\n",
    "%load_ext autoreload\n",
    "%autoreload 2"
   ]
  },
  {
   "cell_type": "code",
   "execution_count": null,
   "metadata": {},
   "outputs": [],
   "source": [
    "import matplotlib.pyplot as plt\n",
    "import numpy as np\n",
    "import tensorflow as tf\n",
    "import time\n",
    "from dataset import MNISTDataset\n",
    "from utils import Utils\n",
    "from lenet5 import Lenet5"
   ]
  },
  {
   "cell_type": "code",
   "execution_count": null,
   "metadata": {},
   "outputs": [],
   "source": [
    "# numpy print options\n",
    "np.set_printoptions(linewidth = 150)\n",
    "np.set_printoptions(edgeitems = 10)"
   ]
  },
  {
   "cell_type": "code",
   "execution_count": null,
   "metadata": {},
   "outputs": [],
   "source": [
    "# use a constant seed in order to reproduce results\n",
    "seed = 112358\n",
    "nprg = np.random.RandomState(seed)"
   ]
  },
  {
   "cell_type": "markdown",
   "metadata": {},
   "source": [
    "#### Import MNIST dataset"
   ]
  },
  {
   "cell_type": "code",
   "execution_count": null,
   "metadata": {},
   "outputs": [],
   "source": [
    "MNIST_TRAIN_IMAGES_FILEPATH = 'MNIST_dataset/train-images.idx3-ubyte'\n",
    "MNIST_TRAIN_LABELS_FILEPATH = 'MNIST_dataset/train-labels.idx1-ubyte'\n",
    "MNIST_TEST_IMAGES_FILEPATH = 'MNIST_dataset/t10k-images.idx3-ubyte'\n",
    "MNIST_TEST_LABELS_FILEPATH = 'MNIST_dataset/t10k-labels.idx1-ubyte'\n",
    "\n",
    "mnist_ds = MNISTDataset(MNIST_TRAIN_IMAGES_FILEPATH, \n",
    "                        MNIST_TRAIN_LABELS_FILEPATH,\n",
    "                        MNIST_TEST_IMAGES_FILEPATH,\n",
    "                        MNIST_TEST_LABELS_FILEPATH)\n"
   ]
  },
  {
   "cell_type": "code",
   "execution_count": null,
   "metadata": {},
   "outputs": [],
   "source": [
    "mnist_ds.enhance_with_random_rotate(ratio = 2)"
   ]
  },
  {
   "cell_type": "code",
   "execution_count": null,
   "metadata": {
    "scrolled": true
   },
   "outputs": [],
   "source": [
    "mnist_ds.enhance_with_random_zoomin(ratio = 2)"
   ]
  },
  {
   "cell_type": "code",
   "execution_count": null,
   "metadata": {},
   "outputs": [],
   "source": [
    "mnist_ds.enhance_with_random_zoomin_and_rotate(ratio = 2)"
   ]
  },
  {
   "cell_type": "markdown",
   "metadata": {},
   "source": [
    "#### Analyze data"
   ]
  },
  {
   "cell_type": "code",
   "execution_count": null,
   "metadata": {},
   "outputs": [],
   "source": [
    "print(mnist_ds.summary)"
   ]
  },
  {
   "cell_type": "code",
   "execution_count": null,
   "metadata": {
    "scrolled": true
   },
   "outputs": [],
   "source": [
    "# plot a sample from each train, validation and test set\n",
    "nlines = 5\n",
    "ncols = 25\n",
    "\n",
    "for dataset in [mnist_ds.train, mnist_ds.validation, mnist_ds.test]:  \n",
    "    # plot train images and print train labels\n",
    "    plt.figure(figsize=(nlines, ncols), dpi = 150)\n",
    "    train_sample_indices = nprg.choice(a = dataset.num_examples, size = nlines * ncols)\n",
    "    plt.imshow(Utils.concat_images(dataset.images[train_sample_indices], mnist_ds.image_size, nlines, ncols), cmap='gray_r')\n",
    "    plt.show()\n",
    "    print(np.argmax(dataset.labels[train_sample_indices], axis=1).reshape(nlines, ncols))\n"
   ]
  },
  {
   "cell_type": "code",
   "execution_count": null,
   "metadata": {
    "scrolled": false
   },
   "outputs": [],
   "source": [
    "# print label distribution of each train, validation and test set\n",
    "for dataset in [mnist_ds.train, mnist_ds.validation, mnist_ds.test]:  \n",
    "    plt.figure(figsize=(15, 5))\n",
    "    plt.hist(np.argmax(dataset.labels, axis=1), bins=np.arange(11), align='left', rwidth=0.5, normed=False)\n",
    "    plt.xticks(range(0, 10))\n",
    "    plt.xlabel('digit')\n",
    "    plt.ylabel('frequency')\n",
    "    plt.show()\n"
   ]
  },
  {
   "cell_type": "markdown",
   "metadata": {},
   "source": [
    "#### Build and train LeNet5 model using TensorFlow"
   ]
  },
  {
   "cell_type": "code",
   "execution_count": null,
   "metadata": {},
   "outputs": [],
   "source": [
    "lenet5_model = Lenet5(mnist_ds, \"zoomin_and_rotate_x2_allDigits_dropoutAfterF5F6\",\n",
    "              epochs=40, batch_size=128, variable_mean=0, variable_stddev=0.1,\n",
    "              learning_rate=0.001,\n",
    "              drop_out_keep_prob=0.5)"
   ]
  },
  {
   "cell_type": "code",
   "execution_count": null,
   "metadata": {},
   "outputs": [],
   "source": [
    "lenet5_model.train()"
   ]
  },
  {
   "cell_type": "code",
   "execution_count": null,
   "metadata": {},
   "outputs": [],
   "source": [
    "# test using test_data method\n",
    "test_loss, test_acc, total_predict, total_actual, wrong_predict_images = Lenet5(mnist_ds,\"temp\").test_data(mnist_ds.test)\n",
    "print('test_loss = {:.3f}, test_acc = {:.3f}'.format(test_loss,test_acc))\n",
    "print('#wrong_predicted_images = {}'.format(len(wrong_predict_images)))"
   ]
  },
  {
   "cell_type": "code",
   "execution_count": null,
   "metadata": {},
   "outputs": [],
   "source": [
    "# sort wrong_predict_images by target label\n",
    "wrong_predict = total_predict[total_actual != total_predict]\n",
    "wrong_actual = total_actual[total_actual != total_predict]\n",
    "wrong_predict_images = np.array(wrong_predict_images)\n",
    "wrong_predict_images_sorted = wrong_predict_images[wrong_actual.argsort(), ]\n",
    "wrong_predict_images_sorted = [image for image in wrong_predict_images_sorted]\n",
    "# plot wrong_predicted_images file\n",
    "from training_plotter import TrainingPlotter\n",
    "TrainingPlotter.combine_images(wrong_predict_images_sorted, \"wrong_predicted_after_restore_session.png\")"
   ]
  },
  {
   "cell_type": "code",
   "execution_count": null,
   "metadata": {},
   "outputs": [],
   "source": [
    "# test again using predict_images method\n",
    "preds = lenet5_1.predict_images(mnist_ds.test.images)\n",
    "target_labels = np.argmax(mnist_ds.test.labels, axis=1)\n",
    "predicted_labels = np.argmax(preds, axis=1)\n",
    "print('Targets: \\n', target_labels)\n",
    "print('Predictions: \\n', predicted_labels)\n",
    "\n",
    "# sort wrong_predict_images by target label\n",
    "wrong_predict = predicted_labels[target_labels != predicted_labels]\n",
    "wrong_actual = target_labels[target_labels != predicted_labels]\n",
    "wrong_predicted_images = mnist_ds.test.images[target_labels != predicted_labels]\n",
    "wrong_predict_images_sorted = wrong_predict_images[wrong_actual.argsort(), ]\n",
    "print(wrong_predict_images_sorted.shape)\n",
    "\n",
    "# plot wrong predicted images, sorted by target label\n",
    "nlines = 5\n",
    "ncols = 25\n",
    "plt.figure(figsize=(25, 10), dpi = 150)\n",
    "plt.imshow(Utils.concat_images(wrong_predict_images_sorted, mnist_ds.image_size, nlines, ncols), cmap='gray_r')\n",
    "plt.title(str(wrong_predicted_labels))\n",
    "plt.show()\n"
   ]
  }
 ],
 "metadata": {
  "kernelspec": {
   "display_name": "Python 3",
   "language": "python",
   "name": "python3"
  },
  "language_info": {
   "codemirror_mode": {
    "name": "ipython",
    "version": 3
   },
   "file_extension": ".py",
   "mimetype": "text/x-python",
   "name": "python",
   "nbconvert_exporter": "python",
   "pygments_lexer": "ipython3",
   "version": "3.6.3"
  }
 },
 "nbformat": 4,
 "nbformat_minor": 2
}
